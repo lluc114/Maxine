{
 "cells": [
  {
   "cell_type": "code",
   "execution_count": 2,
   "metadata": {},
   "outputs": [
    {
     "name": "stdout",
     "output_type": "stream",
     "text": [
      "2.13.0\n"
     ]
    }
   ],
   "source": [
    "import sys\n",
    "sys.path.append('./maxine/')\n",
    "import tensorflow as tf\n",
    "print(tf.__version__)\n",
    "\n",
    "# Helper libraries\n",
    "from tensorflow import keras\n",
    "from keras import mixed_precision\n",
    "import numpy as np\n",
    "import time\n",
    "import maxine\n",
    "import sys\n",
    "from maxine.layers import SoftMaxMin_Pruned_v02\n",
    "import keras.backend as k\n",
    "from maxine.tools import pruning_tool_MLP_v3\n",
    "from maxine.tools import pruning_tool_MLP_v4_1\n",
    "from maxine.tools import pruning_tool_MLP_v4_2\n",
    "import tensorflow_model_optimization as tfmot\n",
    "from keras import regularizers\n",
    "from keras.callbacks import EarlyStopping"
   ]
  },
  {
   "cell_type": "code",
   "execution_count": null,
   "metadata": {},
   "outputs": [],
   "source": [
    "# LOAD DATA\n",
    "fashion_mnist = tf.keras.datasets.fashion_mnist\n",
    "(x_train, y_train), (x_test, y_test) = fashion_mnist.load_data()\n",
    "\n",
    "x_train = x_train.reshape(x_train.shape[0], -1)\n",
    "x_test = x_test.reshape(x_test.shape[0], -1)\n",
    "\n",
    "# convert to float and normalize\n",
    "x_train = x_train.astype('float32')\n",
    "x_test = x_test.astype('float32')\n",
    "x_train = x_train / 255.0\n",
    "x_test = x_test / 255.0\n",
    "\n",
    "# Validation data\n",
    "x_val = x_train[-5000:]\n",
    "y_val = y_train[-5000:]\n",
    "\n",
    "x_train = x_train[:-5000]\n",
    "y_train = y_train[:-5000]"
   ]
  }
 ],
 "metadata": {
  "kernelspec": {
   "display_name": "tf",
   "language": "python",
   "name": "python3"
  },
  "language_info": {
   "codemirror_mode": {
    "name": "ipython",
    "version": 3
   },
   "file_extension": ".py",
   "mimetype": "text/x-python",
   "name": "python",
   "nbconvert_exporter": "python",
   "pygments_lexer": "ipython3",
   "version": "3.9.18"
  }
 },
 "nbformat": 4,
 "nbformat_minor": 2
}
